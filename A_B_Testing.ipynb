{
  "nbformat": 4,
  "nbformat_minor": 0,
  "metadata": {
    "colab": {
      "provenance": []
    },
    "kernelspec": {
      "name": "python3",
      "display_name": "Python 3"
    },
    "language_info": {
      "name": "python"
    }
  },
  "cells": [
    {
      "cell_type": "code",
      "execution_count": null,
      "metadata": {
        "colab": {
          "base_uri": "https://localhost:8080/"
        },
        "id": "iH6zui4weQ1K",
        "outputId": "33f5d75f-d5d0-4451-968e-d2117537cd6e"
      },
      "outputs": [
        {
          "output_type": "stream",
          "name": "stdout",
          "text": [
            "Dataset URL: https://www.kaggle.com/datasets/ahmedmohameddawoud/ecommerce-ab-testing\n",
            "License(s): unknown\n"
          ]
        }
      ],
      "source": [
        "!kaggle datasets download ahmedmohameddawoud/ecommerce-ab-testing"
      ]
    },
    {
      "cell_type": "code",
      "source": [
        "!unzip /content/ecommerce-ab-testing.zip"
      ],
      "metadata": {
        "colab": {
          "base_uri": "https://localhost:8080/"
        },
        "id": "gSbCOxgceWxs",
        "outputId": "77cf9382-c1a6-4e04-d1e0-0f28a9e3cd9b"
      },
      "execution_count": null,
      "outputs": [
        {
          "output_type": "stream",
          "name": "stdout",
          "text": [
            "Archive:  /content/ecommerce-ab-testing.zip\n",
            "  inflating: ab_test.csv             \n",
            "  inflating: countries_ab.csv        \n"
          ]
        }
      ]
    },
    {
      "cell_type": "markdown",
      "source": [
        "# 1. Hypothesis of the Test\n",
        "---\n",
        "**H0: Conversion rate of the treatment group is equal to the control group.**\n",
        "\n",
        "**H1: Conversion rate of the treatment group is different from the control group.**"
      ],
      "metadata": {
        "id": "vC4kBmaqfFRS"
      }
    },
    {
      "cell_type": "markdown",
      "source": [
        "# 2. Test Design"
      ],
      "metadata": {
        "id": "ouljyK36fUDQ"
      }
    },
    {
      "cell_type": "code",
      "source": [
        "import pandas as pd\n",
        "import numpy as np\n",
        "from scipy import stats\n",
        "from statsmodels.stats.proportion import proportions_ztest\n",
        "from statsmodels.stats.power import NormalIndPower\n",
        "import matplotlib.pyplot as plt\n",
        "import seaborn as sns"
      ],
      "metadata": {
        "id": "B-O5w2f7e6kK"
      },
      "execution_count": null,
      "outputs": []
    },
    {
      "cell_type": "code",
      "source": [
        "# Load dataset\n",
        "df = pd.read_csv(\"/content/ab_test.csv\")"
      ],
      "metadata": {
        "id": "kgPLAV_mfZN9"
      },
      "execution_count": null,
      "outputs": []
    },
    {
      "cell_type": "code",
      "source": [
        "print(df.columns)"
      ],
      "metadata": {
        "colab": {
          "base_uri": "https://localhost:8080/"
        },
        "id": "PdKohYEhfxR5",
        "outputId": "8bd812e4-3559-4a24-d3c9-26517df9c5a4"
      },
      "execution_count": null,
      "outputs": [
        {
          "output_type": "stream",
          "name": "stdout",
          "text": [
            "Index(['id', 'time', 'con_treat', 'page', 'converted'], dtype='object')\n"
          ]
        }
      ]
    },
    {
      "cell_type": "code",
      "source": [
        "# Remove users that appear in both groups\n",
        "df = df.drop_duplicates(subset='id')"
      ],
      "metadata": {
        "id": "wiCK4iP_fd27"
      },
      "execution_count": null,
      "outputs": []
    },
    {
      "cell_type": "code",
      "source": [
        "# Filter only valid group-landing_page pairs\n",
        "df = df[((df['con_treat'] == 'control') & (df['page'] == 'old_page')) |\n",
        "        ((df['con_treat'] == 'treatment') & (df['page'] == 'new_page'))]"
      ],
      "metadata": {
        "id": "MDRJ-_YZffar"
      },
      "execution_count": null,
      "outputs": []
    },
    {
      "cell_type": "markdown",
      "source": [
        "# 3. Run the Test"
      ],
      "metadata": {
        "id": "5WbrJNQZgubC"
      }
    },
    {
      "cell_type": "code",
      "source": [
        "# Group stats\n",
        "conversion = df.groupby('con_treat')['converted'].agg(['mean', 'sum', 'count'])\n",
        "print(\"\\nConversion Summary:\\n\", conversion)"
      ],
      "metadata": {
        "colab": {
          "base_uri": "https://localhost:8080/"
        },
        "id": "OV4dta5ugx0o",
        "outputId": "be2a26c0-c0fa-49f6-b248-b37532cd919c"
      },
      "execution_count": null,
      "outputs": [
        {
          "output_type": "stream",
          "name": "stdout",
          "text": [
            "\n",
            "Conversion Summary:\n",
            "                mean    sum   count\n",
            "con_treat                         \n",
            "control    0.120290  17349  144226\n",
            "treatment  0.118727  17134  144314\n"
          ]
        }
      ]
    },
    {
      "cell_type": "code",
      "source": [
        "# Z-test values\n",
        "control_success = conversion.loc['control', 'sum']\n",
        "treatment_success = conversion.loc['treatment', 'sum']\n",
        "control_n = conversion.loc['control', 'count']\n",
        "treatment_n = conversion.loc['treatment', 'count']"
      ],
      "metadata": {
        "id": "z7V45wBVfvRr"
      },
      "execution_count": null,
      "outputs": []
    },
    {
      "cell_type": "markdown",
      "source": [
        "# 4. Statistical Significance Test"
      ],
      "metadata": {
        "id": "xsY-g1sUg3pa"
      }
    },
    {
      "cell_type": "code",
      "source": [
        "z_stat, p_val = proportions_ztest(\n",
        "    count=[treatment_success, control_success],\n",
        "    nobs=[treatment_n, control_n],\n",
        "    alternative='two-sided'\n",
        ")\n",
        "\n",
        "print(f\"\\nZ-Statistic: {z_stat:.4f}\")\n",
        "print(f\"P-Value: {p_val:.4f}\")"
      ],
      "metadata": {
        "colab": {
          "base_uri": "https://localhost:8080/"
        },
        "id": "4t43qNYJg1Rb",
        "outputId": "a163dc03-d415-45c1-d5be-82e8995209a3"
      },
      "execution_count": null,
      "outputs": [
        {
          "output_type": "stream",
          "name": "stdout",
          "text": [
            "\n",
            "Z-Statistic: -1.2942\n",
            "P-Value: 0.1956\n"
          ]
        }
      ]
    },
    {
      "cell_type": "markdown",
      "source": [
        "# 5. Practical Significance"
      ],
      "metadata": {
        "id": "NyWOmF_LhARC"
      }
    },
    {
      "cell_type": "code",
      "source": [
        "abs_diff = abs(conversion.loc['treatment', 'mean'] - conversion.loc['control', 'mean'])\n",
        "print(f\"Absolute Difference in Conversion Rates: {abs_diff:.4%}\")\n",
        "\n",
        "# MDE and power analysis\n",
        "baseline = conversion.loc['control', 'mean']\n",
        "mde = 0.01\n",
        "effect_size = mde / np.sqrt(baseline * (1 - baseline))\n",
        "\n",
        "analysis = NormalIndPower()\n",
        "required_n = analysis.solve_power(effect_size=effect_size, power=0.8, alpha=0.05, ratio=1)\n",
        "\n",
        "print(f\"Required Sample Size per Group for 1% MDE: {int(required_n)}\")\n",
        "print(f\"Actual Sample Sizes - Control: {control_n}, Treatment: {treatment_n}\")"
      ],
      "metadata": {
        "colab": {
          "base_uri": "https://localhost:8080/"
        },
        "id": "bZixRM7sg_B3",
        "outputId": "5b4e1906-80bf-4847-e901-7c2f1516d584"
      },
      "execution_count": null,
      "outputs": [
        {
          "output_type": "stream",
          "name": "stdout",
          "text": [
            "Absolute Difference in Conversion Rates: 0.1563%\n",
            "Required Sample Size per Group for 1% MDE: 16611\n",
            "Actual Sample Sizes - Control: 144226, Treatment: 144314\n"
          ]
        }
      ]
    },
    {
      "cell_type": "markdown",
      "source": [
        "## Visualization"
      ],
      "metadata": {
        "id": "dccdkxwShIFm"
      }
    },
    {
      "cell_type": "code",
      "source": [
        "sns.barplot(x=conversion.index, y=conversion['mean'])\n",
        "plt.title(\"Conversion Rates by Group\")\n",
        "plt.ylabel(\"Conversion Rate\")\n",
        "plt.show()"
      ],
      "metadata": {
        "colab": {
          "base_uri": "https://localhost:8080/",
          "height": 472
        },
        "id": "q00zcEMchFem",
        "outputId": "2ceb7b57-d770-4132-ae0d-642299212592"
      },
      "execution_count": null,
      "outputs": [
        {
          "output_type": "display_data",
          "data": {
            "text/plain": [
              "<Figure size 640x480 with 1 Axes>"
            ],
            "image/png": "[encoded data removed]"
          },
          "metadata": {}
        }
      ]
    },
    {
      "cell_type": "markdown",
      "source": [
        "# 6. Conclusion"
      ],
      "metadata": {
        "id": "dX37FOF0hNfd"
      }
    },
    {
      "cell_type": "code",
      "source": [
        "def make_ab_test_conclusion(p_value, abs_diff, threshold=0.01, alpha=0.05):\n",
        "    print(\"\\n--- Conclusion ---\")\n",
        "    if p_value < alpha:\n",
        "        print(\"✅ Statistically significant result (reject H0)\")\n",
        "        if abs_diff >= threshold:\n",
        "            print(\"📈 Practically significant. Recommend launching the new page.\")\n",
        "        else:\n",
        "            print(\"⚠️ Statistically significant, but not practically. Do not launch.\")\n",
        "    else:\n",
        "        print(\"❌ No statistically significant difference. Fail to reject H0.\")\n",
        "        if abs_diff >= threshold:\n",
        "            print(\"⚠️ Practical difference exists. Consider retesting or increasing sample size.\")\n",
        "    print(\"------------------\")\n",
        "\n",
        "# Call the function\n",
        "make_ab_test_conclusion(p_val, abs_diff, threshold=mde)"
      ],
      "metadata": {
        "colab": {
          "base_uri": "https://localhost:8080/"
        },
        "id": "7mbk5ZcLhLna",
        "outputId": "e427115d-c3e2-42ab-8484-1f6a01bdc761"
      },
      "execution_count": null,
      "outputs": [
        {
          "output_type": "stream",
          "name": "stdout",
          "text": [
            "\n",
            "--- Conclusion ---\n",
            "❌ No statistically significant difference. Fail to reject H0.\n",
            "------------------\n"
          ]
        }
      ]
    },
    {
      "cell_type": "code",
      "source": [],
      "metadata": {
        "id": "gb9blKNjhRYe"
      },
      "execution_count": null,
      "outputs": []
    }
  ]
}